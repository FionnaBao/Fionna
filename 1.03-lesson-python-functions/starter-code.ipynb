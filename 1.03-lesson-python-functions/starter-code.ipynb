{
 "cells": [
  {
   "cell_type": "markdown",
   "metadata": {},
   "source": [
    "<img src=\"http://imgur.com/1ZcRyrc.png\" style=\"float: left; margin: 20px; height: 55px\">\n",
    "\n",
    "# Functions\n",
    "\n",
    "_Authors: Matt Brems (DC), Riley Dallas (ATX)_\n",
    "\n",
    "---\n",
    "\n",
    "### Lesson objectives\n",
    "\n",
    "By the end of this lesson, you should be able to:\n",
    "\n",
    "1. Successfully **create** and **invoke** a function\n",
    "2. Understand how to use parameters in a function\n",
    "3. Understand how to return a value from a function\n",
    "4. Know what a lambda function is and how to create one\n",
    "\n",
    "\n",
    "## Intro\n",
    "---\n",
    "\n",
    "From the pre-work (and perhaps what you've done before DSI), remember that functions:\n",
    "- start with `def`, followed by the name of the function.\n",
    "- take inputs (or arguments).\n",
    "- return outputs.\n",
    "- use `return` instead of `print`.\n",
    "- are used frequently to make coding more efficient.\n",
    "\n",
    "One of my favorite novels - Ray Bradbury's *Fahrenheit 451* - has a quote that is appropriate here: \n",
    "> \"We begin by beginning, I guess.\""
   ]
  },
  {
   "cell_type": "markdown",
   "metadata": {},
   "source": [
    "## Activity: Basic function\n",
    "---\n",
    "\n",
    "Create a function in cell below called `greeting` that prints `\"Howdy\"`."
   ]
  },
  {
   "cell_type": "code",
   "execution_count": 1,
   "metadata": {},
   "outputs": [],
   "source": [
    "# Declare the function\n",
    "def Howdy():\n",
    "    pass"
   ]
  },
  {
   "cell_type": "code",
   "execution_count": 2,
   "metadata": {},
   "outputs": [],
   "source": [
    "# Invoke the function\n",
<<<<<<< Updated upstream
    "def greeting():\n",
    "    print(\"Howdy\")"
=======
    "Howdy()"
>>>>>>> Stashed changes
   ]
  },
  {
   "cell_type": "markdown",
   "metadata": {},
   "source": [
    "## Activity: Function parameters\n",
    "---\n",
    "\n",
    "In the [Kaggle Titanic competition](https://www.kaggle.com/c/titanic/data), the names of everyone in the manifest look like this:\n",
    "> Last, Title. First\n",
    "\n",
    "Create a function called `titanic_name` that accepts 3 parameters:\n",
    "- `first_name`\n",
    "- `last_name`\n",
    "- `title` \n",
    "\n",
    "And prints the full name in the format above."
   ]
  },
  {
   "cell_type": "code",
<<<<<<< Updated upstream
   "execution_count": 12,
   "metadata": {},
   "outputs": [],
   "source": [
    "def titanic_name(last_name, Title, first_name=' '):\n",
    "    print(last_name+\", \"+Title+\".\"+first_name)"
=======
   "execution_count": 3,
   "metadata": {},
   "outputs": [],
   "source": [
    "def titanic_name(first_name,last_name,title):\n",
    "    print(last_name+\",\"+title+\".\"+first_name)"
>>>>>>> Stashed changes
   ]
  },
  {
   "cell_type": "code",
<<<<<<< Updated upstream
   "execution_count": 7,
=======
   "execution_count": 4,
>>>>>>> Stashed changes
   "metadata": {},
   "outputs": [
    {
     "name": "stdout",
     "output_type": "stream",
     "text": [
<<<<<<< Updated upstream
      "Trump, J.Donald\n"
=======
      "Lee,Mgr.Angel\n"
>>>>>>> Stashed changes
     ]
    }
   ],
   "source": [
<<<<<<< Updated upstream
    "titanic_name(\"Donald\",\"Trump\",\"J\")"
=======
    "titanic_name('Angel','Lee','Mgr')"
>>>>>>> Stashed changes
   ]
  },
  {
   "cell_type": "markdown",
   "metadata": {},
   "source": [
    "## Named parameters vs Ordered parameters\n",
    "---\n",
    "\n",
    "In the above example, you must order in which you add your arguments coincides with the order of the parameters in the function declaration. If you called them out of order like so:\n",
    "```python\n",
    "titanic_name('Doe', 'Captain', 'John')\n",
    "```\n",
    "\n",
    "Then the following would happen:\n",
    "\n",
    "1. `'Doe'` would be assigned to `first_name`\n",
    "2. `'Captain'` would be assigned to `last_name`\n",
    "3. `'John'` would be assigned to `title`.\n",
    "\n",
    "As a result, the function would print `'Captain, John. Doe'`. No bueno."
   ]
  },
  {
   "cell_type": "code",
   "execution_count": 5,
   "metadata": {},
   "outputs": [
    {
     "name": "stdout",
     "output_type": "stream",
     "text": [
      "Captain,John.Doe\n"
     ]
    }
   ],
   "source": [
    "titanic_name('Doe', 'Captain', 'John')"
   ]
  },
  {
   "cell_type": "markdown",
   "metadata": {},
   "source": [
    "You can get around this by referencing the parameters by name:\n",
    "\n",
    "```python\n",
    "titanic_name(last_name='Doe', title='Captain', first_name='John')\n",
    "```\n",
    "\n",
    "Notice the order is the same as our bug: `('Doe', 'Captain', 'John')`. Only now the function will work properly.\n",
    "\n",
    "To summarize, ordering your parameters matters **unless you reference the parameters by name**."
   ]
  },
  {
   "cell_type": "code",
<<<<<<< Updated upstream
   "execution_count": 13,
=======
   "execution_count": 6,
>>>>>>> Stashed changes
   "metadata": {},
   "outputs": [
    {
     "name": "stdout",
     "output_type": "stream",
     "text": [
<<<<<<< Updated upstream
      "Doe, Captain. \n"
=======
      "Doe,Captain.John\n"
>>>>>>> Stashed changes
     ]
    }
   ],
   "source": [
<<<<<<< Updated upstream
    "titanic_name(last_name='Doe', Title='Captain')"
=======
    "titanic_name(last_name='Doe', title='Captain', first_name='John')"
>>>>>>> Stashed changes
   ]
  },
  {
   "cell_type": "markdown",
   "metadata": {},
   "source": [
    "## Returning values from a function\n",
    "---\n",
    "\n",
    "Let's say we want to use the result from our `titanic_name` function elsewhere in our code. To do this, we'll set a variable like so:\n",
    "```python\n",
    "formatted_name = titanic_name(last_name='Doe', title='Captain', first_name='John')\n",
    "```\n",
    "\n",
    "We'd expect `formatted_name` to be `'Doe, Captain. John'`, but that's not the case. When we output `formatted_name` in a cell, we see that nothing shows up. This is because our function **prints** the name `'Doe, Captain. John'`, but nothing gets returned. \n",
    "\n",
    "**Remember** printing is merely for you the developer to debug your code. In order to use result from `titanic_name` elsewhere in our code, we need to explicitly return it:\n",
    "```python\n",
    "def titanic_name(first_name, last_name, title):\n",
    "    return '{}, {}. {}'.format(last_name, title, first_name)\n",
    "```"
   ]
  },
  {
   "cell_type": "code",
<<<<<<< Updated upstream
   "execution_count": 14,
=======
   "execution_count": 7,
   "metadata": {},
   "outputs": [],
   "source": [
    "def titanic_name(first_name, last_name, title):\n",
    "    return f'{last_name}, {title}. {first_name}'"
   ]
  },
  {
   "cell_type": "code",
   "execution_count": 8,
>>>>>>> Stashed changes
   "metadata": {},
   "outputs": [],
   "source": [
    "def titanic_name(first_name, last_name, title):\n",
<<<<<<< Updated upstream
    "    return f'{last_name}, {title}. {first_name}'"
=======
    "    return '{}, {}. {}'.format(last_name, title, first_name)"
>>>>>>> Stashed changes
   ]
  },
  {
   "cell_type": "markdown",
   "metadata": {},
   "source": [
    "## Lambda functions\n",
    "---\n",
    "\n",
    "[Lambda functions](https://docs.python.org/3/tutorial/controlflow.html#lambda-expressions) allow us to create an anonymous function on the fly. We'll use them extensively when we learn about `pandas` next week.\n",
    "\n",
    "Here's a simple named function:\n",
    "```python\n",
    "def greeting(name):\n",
    "    return 'Howdy, {}'.format(name)\n",
    "```\n",
    "\n",
    "And here is its `lambda` equivalent:\n",
    "```python\n",
    "lambda name: 'Howdy, {}'.format(name)\n",
    "```\n",
    "\n",
    "The primary differences between named and lambda functions are:\n",
    "\n",
    "1. `lambda` functions don't have a name\n",
    "2. `lambda` functions are written on one line\n",
    "3. `lambda` functions don't require a `return`. It's implied that the `lambda` function above will return `\"Howdy, NAME\"`"
   ]
  },
  {
   "cell_type": "code",
<<<<<<< Updated upstream
   "execution_count": 20,
   "metadata": {},
   "outputs": [],
   "source": [
    "b = lambda name: 'Howdy, {}'.format(name)"
   ]
  },
  {
   "cell_type": "code",
   "execution_count": 21,
   "metadata": {},
=======
   "execution_count": 9,
   "metadata": {},
>>>>>>> Stashed changes
   "outputs": [
    {
     "data": {
      "text/plain": [
       "<function __main__.<lambda>(name)>"
      ]
     },
<<<<<<< Updated upstream
     "execution_count": 21,
=======
     "execution_count": 9,
>>>>>>> Stashed changes
     "metadata": {},
     "output_type": "execute_result"
    }
   ],
   "source": [
<<<<<<< Updated upstream
    "b"
=======
    "lambda name: 'Howdy, {}'.format(name)"
>>>>>>> Stashed changes
   ]
  },
  {
   "cell_type": "markdown",
   "metadata": {},
   "source": [
    "## Challenge: DNA to RNA\n",
    "---\n",
    "\n",
    "If you've taken a Biology class, you know that DNA is essentially a long string comprised of 4 nucleotides:\n",
    "\n",
    "- Cytosine (C)\n",
    "- Thymine (T)\n",
    "- Adenine (A)\n",
    "- Guanine (G)\n",
    "\n",
    "Example:\n",
    "```python\n",
    "dna = 'ACGTAAAACGTGGTGGATTTGACGTGTTTG'\n",
    "```\n",
    "\n",
    "RNA is similar to DNA with one exception: all instances of Thymine (T) are replaced with Uracil (U). Our DNA from above would look like this:\n",
    "```python\n",
    "rna = 'ACGUAAAACGUGGUGGAUUUGACGUGUUUG'\n",
    "```\n",
    "\n",
    "In the cell below, create a function called `dna_to_rna` that accepts a string of DNA and converts it to RNA."
   ]
  },
  {
   "cell_type": "code",
<<<<<<< Updated upstream
   "execution_count": 26,
   "metadata": {},
   "outputs": [],
   "source": [
    "dna_new = 'ACGTAAAACGTGGTGGATTTGACGTGTTTG'\n",
    "rna = 'ACGUAAAACGUGGUGGAUUUGACGUGUUUG'"
=======
   "execution_count": 10,
   "metadata": {},
   "outputs": [],
   "source": [
    "dna = 'ACGTAAAACGTGGTGGATTTGACGTGTTTG'\n",
    "rna = 'ACGUAAAACGUGGUGGAUUUGACGUGUUUG'\n",
    "\n",
    "def dna_to_rna(DNA):\n",
    "    return DNA.replace(\"T\", \"U\") "
>>>>>>> Stashed changes
   ]
  },
  {
   "cell_type": "code",
<<<<<<< Updated upstream
   "execution_count": 23,
   "metadata": {},
   "outputs": [],
   "source": [
    "def dna_to_rna(dna):\n",
    "    return dna.replace(\"T\",\"U\")"
=======
   "execution_count": 11,
   "metadata": {},
   "outputs": [],
   "source": [
    "rna_new = dna_to_rna(dna)"
>>>>>>> Stashed changes
   ]
  },
  {
   "cell_type": "code",
<<<<<<< Updated upstream
   "execution_count": 29,
   "metadata": {},
   "outputs": [],
   "source": [
    "rna_new = dna_to_rna(dna = dna_new)"
   ]
  },
  {
   "cell_type": "code",
   "execution_count": 30,
=======
   "execution_count": 12,
>>>>>>> Stashed changes
   "metadata": {},
   "outputs": [
    {
     "name": "stdout",
     "output_type": "stream",
     "text": [
<<<<<<< Updated upstream
      "ACGTAAAACGTGGTGGATTTGACGTGTTTG\n",
      "ACGUAAAACGUGGUGGAUUUGACGUGUUUG\n",
=======
>>>>>>> Stashed changes
      "ACGUAAAACGUGGUGGAUUUGACGUGUUUG\n"
     ]
    }
   ],
   "source": [
<<<<<<< Updated upstream
    "print(dna)\n",
    "print(rna_new)\n",
    "print(rna)"
=======
    "print(rna_new)"
>>>>>>> Stashed changes
   ]
  },
  {
   "cell_type": "markdown",
   "metadata": {},
   "source": [
    "## Challenge: Hamming Distance\n",
    "---\n",
    "\n",
    "The DNA strand `'AAAA'` is similar to the strand `'AAAT'` with one exception: the 4th nucleotide is different. In other words, the two strands have a **hamming distance** of 1, where hamming distance is the number of nucleotides that differ between two strands.\n",
    "\n",
    "In the cell below, create a function called `hamming_distance` that accepts two parameters (`dna1` and `dna2`) and calculates the hamming distance between the two strands. \n",
    "\n",
    "**NOTE:** You can assume the two strands will have the same length."
   ]
  },
  {
   "cell_type": "code",
<<<<<<< Updated upstream
   "execution_count": 37,
   "metadata": {},
   "outputs": [],
   "source": [
    "dna1 = 'AAAA'\n",
    "dna2 = 'AAAT'"
=======
   "execution_count": 13,
   "metadata": {},
   "outputs": [],
   "source": [
    "def hamming_distance(dna1,dna2):\n",
    "    x = [i for i in range(len(dna1)) if dna1[i] != dna2[i]]\n",
    "    print(len (x))"
>>>>>>> Stashed changes
   ]
  },
  {
   "cell_type": "code",
<<<<<<< Updated upstream
   "execution_count": 38,
   "metadata": {},
   "outputs": [],
   "source": [
    "def hamming(dna_lst1, dna_lst2):\n",
    "    ct=0\n",
    "    hamming_dist = lambda dna1, dna2: abs(len(set(dna1)) - len(set(dna2))) \n",
    "    hamming_dist(dna_lst1, dna_lst2)\n",
    "    return hamming_dist"
=======
   "execution_count": 14,
   "metadata": {},
   "outputs": [
    {
     "name": "stdout",
     "output_type": "stream",
     "text": [
      "2\n"
     ]
    }
   ],
   "source": [
    "hamming_distance('AAAAY','AAATX')"
>>>>>>> Stashed changes
   ]
  },
  {
   "cell_type": "code",
<<<<<<< Updated upstream
   "execution_count": 39,
   "metadata": {},
   "outputs": [],
   "source": [
    "def hamming_d2(dna1, dna2):\n",
    "    ct = 0\n",
    "    for i in range(len(dna1)):\n",
    "        if dna1[i]!=dna2[i]:\n",
    "            ct+=1\n",
    "    return ct"
   ]
  },
  {
   "cell_type": "code",
   "execution_count": 40,
   "metadata": {},
   "outputs": [],
   "source": [
    "def hamming_distance(dna1, dna2):\n",
    "    ct = 0\n",
    "    for i, k in zip(dna1, dna2):\n",
    "        if i!=k:\n",
    "            ct=ct+1\n",
    "    print(ct)\n",
    "    return ct"
   ]
  },
  {
   "cell_type": "code",
   "execution_count": 41,
   "metadata": {},
   "outputs": [
    {
     "name": "stdout",
     "output_type": "stream",
     "text": [
      "AAAA\n",
      "AAAT\n"
     ]
    }
   ],
   "source": [
    "print(dna1)\n",
    "print(dna2)"
=======
   "execution_count": 15,
   "metadata": {},
   "outputs": [],
   "source": [
    "def hamming_distance(dna1,dna2):\n",
    "    count=0\n",
    "    for i in range(len(dna1)):\n",
    "        if dna1[i]!=dna2[i]:\n",
    "            count+=1\n",
    "    return count"
>>>>>>> Stashed changes
   ]
  },
  {
   "cell_type": "code",
<<<<<<< Updated upstream
   "execution_count": 43,
   "metadata": {},
   "outputs": [
    {
     "name": "stdout",
     "output_type": "stream",
     "text": [
      "A A\n",
      "A A\n",
      "A A\n",
      "A T\n"
     ]
    }
   ],
   "source": [
    "for i,k in zip(dna1, dna2):\n",
    "    print(i,k)"
=======
   "execution_count": 16,
   "metadata": {},
   "outputs": [
    {
     "data": {
      "text/plain": [
       "2"
      ]
     },
     "execution_count": 16,
     "metadata": {},
     "output_type": "execute_result"
    }
   ],
   "source": [
    "hamming_distance('AAAAY','AAATX')"
>>>>>>> Stashed changes
   ]
  },
  {
   "cell_type": "markdown",
   "metadata": {},
   "source": [
    "## Challenge: Reverse Complement\n",
    "---\n",
    "\n",
    "DNA is actually double stranded. The two strands have the nicknames Watson and Crick, named after the two scientists that discovered the structure of DNA. In a double helix, the two strands are facing **opposite directions**. Moreover, the strands are complementary. \n",
    "\n",
    "Moreover, each nucleotide in the Watson strand is lined up with its complement on the Crick strand. When combined, each nucleotide on one strand binds with its complement on the other sort of like a zipper. \n",
    "\n",
    "- Each Adenine on one strand has a Thymine on the other (and vice versa)\n",
    "- Each Cytosine on one strand is facing a Guanine on the other (and vice versa)\n",
    "\n",
    "In the cell below, create a function called `reverse_complement` that accepts a string of DNA and returns its complementary strand **in reverse**.\n",
    "\n",
    "For example: `'AAACCC'` and `'GGGTTT'` are reverse complements. `'A'` lines up with `'T'`, `'C'` lines up with `'G'` **and the complement is reversed**"
   ]
  },
  {
   "cell_type": "code",
   "execution_count": 28,
   "metadata": {},
   "outputs": [],
   "source": [
    "def reverse_complement(dna):\n",
    "    i=0\n",
    "    dna_reversed=''\n",
    "    for i in range(len(dna)):\n",
    "        if dna[i]=='A':\n",
    "            dna_reversed+='G'\n",
    "        elif dna[i]=='G':\n",
    "            dna_reversed+='A'\n",
    "        elif dna[i]=='C':\n",
    "            dna_reversed+='T'\n",
    "        elif dna[i]=='T':\n",
    "            dna_reversed+='C'\n",
    "        else:\n",
    "            print('DNA only has A,C,G T, 4 types of nucleotide!')\n",
    "        i+=1           \n",
    "    return dna_reversed"
   ]
  },
  {
   "cell_type": "code",
   "execution_count": 29,
   "metadata": {},
   "outputs": [
    {
     "data": {
      "text/plain": [
       "'GTAC'"
      ]
     },
     "execution_count": 29,
     "metadata": {},
     "output_type": "execute_result"
    }
   ],
   "source": [
    "reverse_complement('ACGT')"
   ]
  },
  {
   "cell_type": "markdown",
   "metadata": {},
   "source": [
    "## Challenge: Find the divisors\n",
    "---\n",
    "\n",
    "From [codewars](https://www.codewars.com/kata/find-the-divisors/train/python). Create a function called `divisors` that accepts a number and returns a list of all the divisors for that number. \n",
    "\n",
    "For example: `divisors(12)` will return the list `[2, 3, 4, 6]`. \n",
    "\n",
    "**Note**: 1 doesn't count as a divisor.\n",
    "**Note**: If the number doesn't have any divisors, it is prime (e.g. 13, 23, etc). In cases where the number is prime, simply return the string `'13 is prime'`."
   ]
  },
  {
   "cell_type": "code",
   "execution_count": 51,
   "metadata": {},
   "outputs": [],
   "source": [
    "def get_divisors(n):\n",
    "    divisor_list=[]\n",
    "    for i in range(1,int(n / 2) + 1):\n",
    "        if n % i == 0:\n",
    "            divisor_list.append(i)\n",
    "        i+=1\n",
    "    if len(divisor_list)>1:\n",
    "        return divisor_list[1:]\n",
    "    else:\n",
    "        return f'{n} is prime'"
   ]
  },
  {
   "cell_type": "code",
   "execution_count": 52,
   "metadata": {},
   "outputs": [
    {
     "data": {
      "text/plain": [
       "[2, 3, 4, 6]"
      ]
     },
     "execution_count": 52,
     "metadata": {},
     "output_type": "execute_result"
    }
   ],
   "source": [
    "get_divisors(12)"
   ]
  }
 ],
 "metadata": {
  "kernelspec": {
   "display_name": "Python 3",
   "language": "python",
   "name": "python3"
  },
  "language_info": {
   "codemirror_mode": {
    "name": "ipython",
    "version": 3
   },
   "file_extension": ".py",
   "mimetype": "text/x-python",
   "name": "python",
   "nbconvert_exporter": "python",
   "pygments_lexer": "ipython3",
<<<<<<< Updated upstream
   "version": "3.6.5"
=======
   "version": "3.7.4"
>>>>>>> Stashed changes
  }
 },
 "nbformat": 4,
 "nbformat_minor": 2
}
