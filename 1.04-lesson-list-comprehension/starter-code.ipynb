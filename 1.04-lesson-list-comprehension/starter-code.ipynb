{
 "cells": [
  {
   "cell_type": "markdown",
   "metadata": {},
   "source": [
    "<img src=\"http://imgur.com/1ZcRyrc.png\" style=\"float: left; margin: 20px; height: 55px\">\n",
    "\n",
    "# Looping and List Comprehension\n",
    "\n",
    "_Authors: Riley Dallas (ATX)_\n",
    "\n",
    "---"
   ]
  },
  {
   "cell_type": "markdown",
   "metadata": {},
   "source": [
    "## Introduction: `for` and `while` loops\n",
    "---\n",
    "The `for` statement is used to **iterate** over the elements of a sequence. It's \n",
    "used when you have a piece of code which you want to repeat n number of times. \n",
    "You can use any enumerable object (such as strings, arrays, lists, tuples, dict and so on) \n",
    "in a `for` loop.\n",
    "\n",
    "The `while` loop will run a block of code as long as a condition is met. \n",
    "A `while` loop consists of a block of code and a boolean condition. The condition \n",
    "is evaluated, and if the condition is `True`, the code within the\n",
    "block is executed. This repeats ad infinitum until the condition becomes `False`. \n",
    "\n",
    "[for and while loops](http://www.pythonforbeginners.com/control-flow-2/python-for-and-while-loops)\n",
    "[for and while loops](http://www.cyberciti.biz/faq/python-for-loop-examples-statements/)"
   ]
  },
  {
   "cell_type": "markdown",
   "metadata": {},
   "source": [
    "## `while` Loops\n",
    "---\n",
    "```python\n",
    "truth_test = True\n",
    "while truth_test:\n",
    "    print('hello')\n",
    "```\n",
    "This is an example of a `while` loop. `while` loops continue to run until the expression after `while` evaluates to `False`. In the example above, the loop will continue to run ad infinitum because we never change `truth_test` be `False` in our block."
   ]
  },
  {
   "cell_type": "code",
   "execution_count": null,
   "metadata": {},
   "outputs": [],
   "source": []
  },
  {
   "cell_type": "markdown",
   "metadata": {},
   "source": [
    "## Practice\n",
    "---\n",
    "In the cell below, let's do the following:\n",
    "1. Create a `counter` variable and set it to 0\n",
    "2. Create a `while` loop that runs until `counter` is equal to 10. For each iteration:\n",
    "  1. Print the value of `counter`\n",
    "  2. Increment `counter`"
   ]
  },
  {
   "cell_type": "code",
<<<<<<< Updated upstream
   "execution_count": 2,
=======
   "execution_count": 5,
>>>>>>> Stashed changes
   "metadata": {},
   "outputs": [
    {
     "name": "stdout",
     "output_type": "stream",
     "text": [
      "0\n",
      "1\n",
      "2\n",
      "3\n",
      "4\n",
      "5\n",
      "6\n",
      "7\n",
      "8\n",
      "9\n",
      "10\n"
     ]
    }
   ],
   "source": [
<<<<<<< Updated upstream
    "counter = 0\n",
    "while(counter<=10):\n",
    "    print(counter)\n",
    "    counter+=1"
=======
    "counter=0\n",
    "while(counter<=10):\n",
    "    print(counter)\n",
    "    counter+=1\n"
>>>>>>> Stashed changes
   ]
  },
  {
   "cell_type": "markdown",
   "metadata": {},
   "source": [
    "Remember, a while loop runs until the expression is `False`. The problem is, sometimes they don't stop. To avoid this, here are some rules to follow:\n",
    "\n",
    "1. Make sure that you use `while` loops sparingly. Usually a `for` loop is better.\n",
    "2. Review your `while` statements and make sure that the boolean test will become `False` at some point.\n",
    "3. When in doubt, print out your test variable at the top and bottom of the `while` loop.\n"
   ]
  },
  {
   "cell_type": "markdown",
   "metadata": {},
   "source": [
    "## `for` Loops\n",
    "---\n",
    "```python\n",
    "for count in [1, 2, 3]: \n",
    "    print(count) \n",
    "    print('Yes' * count) \n",
    "    print('') # Creates a line break after each iteration\n",
    "```\n",
    "\n",
    "This is a **for** loop. It has the following parts:\n",
    "1. The word `for`\n",
    "2. A variable that you create (`counter`), which be be used for each item in the sequence\n",
    "3. The word `in`\n",
    "4. The sequence to iterate over\n",
    "\n",
    "Copy and paste the loop above to see what it does."
   ]
  },
  {
   "cell_type": "code",
<<<<<<< Updated upstream
   "execution_count": 5,
=======
   "execution_count": 6,
>>>>>>> Stashed changes
   "metadata": {},
   "outputs": [
    {
     "name": "stdout",
     "output_type": "stream",
     "text": [
      "1\n",
      "Yes\n",
      "\n",
      "2\n",
      "YesYes\n",
      "\n",
      "3\n",
      "YesYesYes\n",
      "\n"
     ]
    }
   ],
   "source": [
    "for count in [1, 2, 3]: \n",
    "    print(count) \n",
    "    print('Yes' * count) \n",
    "    print('') # Creates a line break after each iteration"
   ]
  },
  {
   "cell_type": "markdown",
   "metadata": {},
   "source": [
    "## Repeat `for` loops\n",
    "---\n",
    "\n",
    "Let's try a simple repeat **for** loop. A repeat loop is for when you just want to repeat the exact same \n",
    "thing a specific number of times. In that case only the length of the sequence, \n",
    "not the individual elements are important. For this, we can use use the `range` function to create our sequence. \n",
    "\n",
    "In the block below, use `range` to create a for loop that prints **Hello** 100 times."
   ]
  },
  {
   "cell_type": "code",
<<<<<<< Updated upstream
   "execution_count": 6,
   "metadata": {},
   "outputs": [
    {
     "data": {
      "text/plain": [
       "range(0, 100)"
      ]
     },
     "execution_count": 6,
     "metadata": {},
     "output_type": "execute_result"
    }
   ],
   "source": [
    "range(100)"
   ]
  },
  {
   "cell_type": "code",
   "execution_count": 7,
=======
   "execution_count": 10,
>>>>>>> Stashed changes
   "metadata": {},
   "outputs": [
    {
     "name": "stdout",
     "output_type": "stream",
     "text": [
      "Hello\n",
      "Hello\n",
<<<<<<< Updated upstream
      "Hello\n",
      "Hello\n",
      "Hello\n",
      "Hello\n",
      "Hello\n",
      "Hello\n",
      "Hello\n",
      "Hello\n",
      "Hello\n",
      "Hello\n",
      "Hello\n",
      "Hello\n",
      "Hello\n",
      "Hello\n",
      "Hello\n",
      "Hello\n",
      "Hello\n",
      "Hello\n",
      "Hello\n",
      "Hello\n",
      "Hello\n",
      "Hello\n",
      "Hello\n",
      "Hello\n",
      "Hello\n",
      "Hello\n",
      "Hello\n",
      "Hello\n",
      "Hello\n",
      "Hello\n",
      "Hello\n",
      "Hello\n",
      "Hello\n",
      "Hello\n",
      "Hello\n",
      "Hello\n",
      "Hello\n",
      "Hello\n",
      "Hello\n",
      "Hello\n",
      "Hello\n",
      "Hello\n",
      "Hello\n",
      "Hello\n",
      "Hello\n",
      "Hello\n",
      "Hello\n",
      "Hello\n",
      "Hello\n",
      "Hello\n",
      "Hello\n",
      "Hello\n",
      "Hello\n",
      "Hello\n",
      "Hello\n",
      "Hello\n",
      "Hello\n",
      "Hello\n",
      "Hello\n",
      "Hello\n",
      "Hello\n",
      "Hello\n",
      "Hello\n",
      "Hello\n",
      "Hello\n",
      "Hello\n",
      "Hello\n",
      "Hello\n",
      "Hello\n",
      "Hello\n",
      "Hello\n",
      "Hello\n",
      "Hello\n",
      "Hello\n",
      "Hello\n",
      "Hello\n",
      "Hello\n",
      "Hello\n",
      "Hello\n",
      "Hello\n",
      "Hello\n",
      "Hello\n",
      "Hello\n",
      "Hello\n",
      "Hello\n",
      "Hello\n",
      "Hello\n",
      "Hello\n",
      "Hello\n",
      "Hello\n",
      "Hello\n",
      "Hello\n",
      "Hello\n",
      "Hello\n",
      "Hello\n",
      "Hello\n",
      "Hello\n",
=======
>>>>>>> Stashed changes
      "Hello\n"
     ]
    }
   ],
   "source": [
<<<<<<< Updated upstream
    "for x in range(100):\n",
    "    print(\"Hello\")"
=======
    "for i in range(3):\n",
    "    print('Hello')"
>>>>>>> Stashed changes
   ]
  },
  {
   "cell_type": "markdown",
   "metadata": {},
   "source": [
    "## Looping over strings\n",
    "---\n",
    "\n",
    "We've mostly played it safe with list sequences.  Let's try looping through the letters in a word:\n",
    "\n",
    "```python\n",
    "word = \"computer\"\n",
    "```\n",
    "\n",
    "How do we do this?"
   ]
  },
  {
   "cell_type": "code",
   "execution_count": null,
   "metadata": {},
   "outputs": [],
   "source": []
  },
  {
   "cell_type": "markdown",
   "metadata": {},
   "source": [
    "## Looping over dictionaries\n",
    "---\n",
    "\n",
    "You can also loop through the key/value pairs in a dictionary. \n",
    "\n",
    "To see this in action, create a dictionary called `user` with the keys `'first_name'` and `'last_name'`"
   ]
  },
  {
   "cell_type": "code",
<<<<<<< Updated upstream
   "execution_count": 8,
   "metadata": {},
   "outputs": [],
   "source": [
    "d2 = {'first_name': 'ryan', 'last_name':'deadpool'}"
=======
   "execution_count": 12,
   "metadata": {},
   "outputs": [
    {
     "ename": "SyntaxError",
     "evalue": "invalid syntax (<ipython-input-12-1aa6f5fd1917>, line 1)",
     "output_type": "error",
     "traceback": [
      "\u001b[0;36m  File \u001b[0;32m\"<ipython-input-12-1aa6f5fd1917>\"\u001b[0;36m, line \u001b[0;32m1\u001b[0m\n\u001b[0;31m    d2={first_name:1,last name:2}\u001b[0m\n\u001b[0m                             ^\u001b[0m\n\u001b[0;31mSyntaxError\u001b[0m\u001b[0;31m:\u001b[0m invalid syntax\n"
     ]
    }
   ],
   "source": [
    "d2={first_name:1,last name:2}"
>>>>>>> Stashed changes
   ]
  },
  {
   "cell_type": "code",
<<<<<<< Updated upstream
   "execution_count": 14,
   "metadata": {},
   "outputs": [
    {
     "name": "stdout",
     "output_type": "stream",
     "text": [
      "ryan\n",
      "deadpool\n"
=======
   "execution_count": 11,
   "metadata": {},
   "outputs": [
    {
     "ename": "NameError",
     "evalue": "name 'd2' is not defined",
     "output_type": "error",
     "traceback": [
      "\u001b[0;31m---------------------------------------------------------------------------\u001b[0m",
      "\u001b[0;31mNameError\u001b[0m                                 Traceback (most recent call last)",
      "\u001b[0;32m<ipython-input-11-26b4f20b8e66>\u001b[0m in \u001b[0;36m<module>\u001b[0;34m\u001b[0m\n\u001b[0;32m----> 1\u001b[0;31m \u001b[0;32mfor\u001b[0m \u001b[0mx\u001b[0m\u001b[0;34m,\u001b[0m\u001b[0my\u001b[0m \u001b[0;32min\u001b[0m \u001b[0md2\u001b[0m\u001b[0;34m.\u001b[0m\u001b[0mitems\u001b[0m\u001b[0;34m(\u001b[0m\u001b[0;34m)\u001b[0m\u001b[0;34m:\u001b[0m\u001b[0;34m\u001b[0m\u001b[0;34m\u001b[0m\u001b[0m\n\u001b[0m\u001b[1;32m      2\u001b[0m     \u001b[0mprint\u001b[0m\u001b[0;34m(\u001b[0m\u001b[0my\u001b[0m\u001b[0;34m)\u001b[0m\u001b[0;34m\u001b[0m\u001b[0;34m\u001b[0m\u001b[0m\n",
      "\u001b[0;31mNameError\u001b[0m: name 'd2' is not defined"
>>>>>>> Stashed changes
     ]
    }
   ],
   "source": [
<<<<<<< Updated upstream
    "for x, y in d2.items():\n",
=======
    "for x,y in d2.items():\n",
>>>>>>> Stashed changes
    "    print(y)"
   ]
  },
  {
   "cell_type": "markdown",
   "metadata": {},
   "source": [
    "Dictionaries have a method called `items()` specifically for looping. We'll use that in conjunction with a for loop to iterate over the key/value pairs in our `user` dictionary."
   ]
  },
  {
   "cell_type": "code",
   "execution_count": null,
   "metadata": {},
   "outputs": [],
   "source": []
  },
  {
   "cell_type": "markdown",
   "metadata": {},
   "source": [
    "## Mapping\n",
    "---\n",
    "Mapping is when you perform an item-wise transformation to a given sequence. In python, we'll use list comprehension to do this.\n",
    "\n",
    "To illustrate mapping, let's transform this list of binary strings:\n",
    "\n",
    "```python\n",
    "sample_column = ['Yes', 'Yes', 'Yes', 'No']\n",
    "```\n",
    "\n",
    "Into binary values:\n",
    "- 1 if the string is `'Yes'`\n",
    "- 0 if the string is `'No'`"
   ]
  },
  {
   "cell_type": "code",
   "execution_count": 15,
   "metadata": {},
   "outputs": [],
   "source": [
    "# Copy/paste sample_column\n",
    "def convert_binary(inp):\n",
    "    if inp=='Yes':\n",
    "        return 1\n",
    "    elif inp=='No':\n",
    "        return 0\n",
    "    else:\n",
    "        return -1"
   ]
  },
  {
   "cell_type": "code",
   "execution_count": 16,
   "metadata": {},
   "outputs": [],
   "source": [
    "sample_column = ['Yes', 'Yes', 'No', 'No']"
   ]
  },
  {
   "cell_type": "code",
   "execution_count": 18,
   "metadata": {},
   "outputs": [
    {
     "name": "stdout",
     "output_type": "stream",
     "text": [
      "1\n",
      "1\n",
      "0\n",
      "0\n"
     ]
    }
   ],
   "source": [
    "for x in map(convert_binary, sample_column):\n",
    "    print(x)"
   ]
  },
  {
   "cell_type": "markdown",
   "metadata": {},
   "source": [
    "In machine learning, we'll need to convert strings into numbers. Let's create a function that accepts **a single string**. Return 1 if the string is `'Yes'` and 0 if the string is `'No'`."
   ]
  },
  {
   "cell_type": "code",
   "execution_count": null,
   "metadata": {},
   "outputs": [],
   "source": []
  },
  {
   "cell_type": "markdown",
   "metadata": {},
   "source": [
    "Now let's use list comprehension along with our function to convert our list of strings into 1s and 0s."
   ]
  },
  {
   "cell_type": "code",
   "execution_count": null,
   "metadata": {},
   "outputs": [],
   "source": []
  },
  {
   "cell_type": "markdown",
   "metadata": {},
   "source": [
    "## Mapping practice: odds and evens\n",
    "---\n",
    "\n",
    "1. Create a list of integers, 1 through 100\n",
    "2. Create a function that accepts a single integer as a parameter and returns `'odd'` or `'even'`, depending on the input.\n",
    "3. Use list comprehension to map through your array of integers and return a list of odd/even strings"
   ]
  },
  {
   "cell_type": "code",
   "execution_count": 13,
   "metadata": {},
   "outputs": [],
   "source": [
    "# create an array of integers: 1-100\n",
    "def odd_or_even(i):\n",
    "    if i%2==0:\n",
    "        return 'even'\n",
    "    else:\n",
    "        return 'odd'"
   ]
  },
  {
   "cell_type": "code",
<<<<<<< Updated upstream
   "execution_count": 19,
   "metadata": {},
   "outputs": [],
   "source": [
    "# create a function that accepts a single integer, and returns the string 'odd' or 'even', depending on the integer\n",
    "x = range(1,100)"
   ]
  },
  {
   "cell_type": "code",
   "execution_count": 20,
   "metadata": {},
   "outputs": [],
   "source": [
    "def odd_even(inp):\n",
    "    if inp%2==1:\n",
    "        return 'odd'\n",
    "    else:\n",
    "        return 'even'"
   ]
  },
  {
   "cell_type": "code",
   "execution_count": 23,
   "metadata": {},
   "outputs": [
    {
     "name": "stdout",
     "output_type": "stream",
     "text": [
      "odd\n",
      "even\n",
      "odd\n",
      "even\n",
      "odd\n",
      "even\n",
      "odd\n",
      "even\n",
      "odd\n",
      "even\n",
      "odd\n",
      "even\n",
      "odd\n",
      "even\n",
      "odd\n",
      "even\n",
      "odd\n",
      "even\n",
      "odd\n",
      "even\n",
      "odd\n",
      "even\n",
      "odd\n",
      "even\n",
      "odd\n",
      "even\n",
      "odd\n",
      "even\n",
      "odd\n",
      "even\n",
      "odd\n",
      "even\n",
      "odd\n",
      "even\n",
      "odd\n",
      "even\n",
      "odd\n",
      "even\n",
      "odd\n",
      "even\n",
      "odd\n",
      "even\n",
      "odd\n",
      "even\n",
      "odd\n",
      "even\n",
      "odd\n",
      "even\n",
      "odd\n",
      "even\n",
      "odd\n",
      "even\n",
      "odd\n",
      "even\n",
      "odd\n",
      "even\n",
      "odd\n",
      "even\n",
      "odd\n",
      "even\n",
      "odd\n",
      "even\n",
      "odd\n",
      "even\n",
      "odd\n",
      "even\n",
      "odd\n",
      "even\n",
      "odd\n",
      "even\n",
      "odd\n",
      "even\n",
      "odd\n",
      "even\n",
      "odd\n",
      "even\n",
      "odd\n",
      "even\n",
      "odd\n",
      "even\n",
      "odd\n",
      "even\n",
      "odd\n",
      "even\n",
      "odd\n",
      "even\n",
      "odd\n",
      "even\n",
      "odd\n",
      "even\n",
      "odd\n",
      "even\n",
      "odd\n",
      "even\n",
      "odd\n",
      "even\n",
      "odd\n",
      "even\n",
      "odd\n"
     ]
    }
   ],
   "source": [
    "for i in map(odd_even, x):\n",
    "    print(i)"
   ]
  },
  {
   "cell_type": "code",
   "execution_count": 21,
   "metadata": {},
   "outputs": [
    {
     "data": {
      "text/plain": [
       "['odd',\n",
       " 'even',\n",
       " 'odd',\n",
       " 'even',\n",
       " 'odd',\n",
       " 'even',\n",
       " 'odd',\n",
       " 'even',\n",
       " 'odd',\n",
       " 'even',\n",
       " 'odd',\n",
       " 'even',\n",
       " 'odd',\n",
       " 'even',\n",
       " 'odd',\n",
       " 'even',\n",
       " 'odd',\n",
       " 'even',\n",
       " 'odd',\n",
       " 'even',\n",
       " 'odd',\n",
       " 'even',\n",
       " 'odd',\n",
       " 'even',\n",
       " 'odd',\n",
       " 'even',\n",
       " 'odd',\n",
       " 'even',\n",
       " 'odd',\n",
       " 'even',\n",
       " 'odd',\n",
       " 'even',\n",
       " 'odd',\n",
       " 'even',\n",
       " 'odd',\n",
       " 'even',\n",
       " 'odd',\n",
       " 'even',\n",
       " 'odd',\n",
       " 'even',\n",
       " 'odd',\n",
       " 'even',\n",
       " 'odd',\n",
       " 'even',\n",
       " 'odd',\n",
       " 'even',\n",
       " 'odd',\n",
       " 'even',\n",
       " 'odd',\n",
       " 'even',\n",
       " 'odd',\n",
       " 'even',\n",
       " 'odd',\n",
       " 'even',\n",
       " 'odd',\n",
       " 'even',\n",
       " 'odd',\n",
       " 'even',\n",
       " 'odd',\n",
       " 'even',\n",
       " 'odd',\n",
       " 'even',\n",
       " 'odd',\n",
       " 'even',\n",
       " 'odd',\n",
       " 'even',\n",
       " 'odd',\n",
       " 'even',\n",
       " 'odd',\n",
       " 'even',\n",
       " 'odd',\n",
       " 'even',\n",
       " 'odd',\n",
       " 'even',\n",
       " 'odd',\n",
       " 'even',\n",
       " 'odd',\n",
       " 'even',\n",
       " 'odd',\n",
       " 'even',\n",
       " 'odd',\n",
       " 'even',\n",
       " 'odd',\n",
       " 'even',\n",
       " 'odd',\n",
       " 'even',\n",
       " 'odd',\n",
       " 'even',\n",
       " 'odd',\n",
       " 'even',\n",
       " 'odd',\n",
       " 'even',\n",
       " 'odd',\n",
       " 'even',\n",
       " 'odd',\n",
       " 'even',\n",
       " 'odd',\n",
       " 'even',\n",
       " 'odd']"
      ]
     },
     "execution_count": 21,
     "metadata": {},
     "output_type": "execute_result"
    }
   ],
   "source": [
    "[odd_even(i) for i in x]"
=======
   "execution_count": 24,
   "metadata": {},
   "outputs": [],
   "source": [
    "# create a function that accepts a single integer, and returns the string 'odd' or 'even', depending on the integer\n",
    "list1=range(1,3)"
>>>>>>> Stashed changes
   ]
  },
  {
   "cell_type": "code",
   "execution_count": 25,
   "metadata": {},
   "outputs": [
    {
     "name": "stdout",
     "output_type": "stream",
     "text": [
      "odd\n",
      "even\n"
     ]
    }
   ],
   "source": [
    "# use list comprehension to convert your array of integers to an array of odd/even strings\n",
    "for x in map(odd_or_even,list1):\n",
    "    print(x)"
   ]
  },
  {
   "cell_type": "code",
   "execution_count": 26,
   "metadata": {},
   "outputs": [
    {
     "data": {
      "text/plain": [
       "['odd', 'even']"
      ]
     },
     "execution_count": 26,
     "metadata": {},
     "output_type": "execute_result"
    }
   ],
   "source": [
    "[odd_or_even(i) for i in list1]"
   ]
  },
  {
   "cell_type": "markdown",
   "metadata": {},
   "source": [
    "## Mapping practice: square the numbers\n",
    "---\n",
    "\n",
    "If your item-wise transformation is simple, you can do list comprehension without a function. In the cell below:\n",
    "\n",
    "1. Create a list of integers, 1 through 10\n",
    "2. Use list comprehension to square each number in step 1"
   ]
  },
  {
   "cell_type": "code",
   "execution_count": 29,
   "metadata": {},
   "outputs": [
    {
     "ename": "TypeError",
     "evalue": "int() argument must be a string, a bytes-like object or a number, not 'range'",
     "output_type": "error",
     "traceback": [
      "\u001b[0;31m---------------------------------------------------------------------------\u001b[0m",
      "\u001b[0;31mTypeError\u001b[0m                                 Traceback (most recent call last)",
      "\u001b[0;32m<ipython-input-29-1e964f7fe184>\u001b[0m in \u001b[0;36m<module>\u001b[0;34m\u001b[0m\n\u001b[1;32m      1\u001b[0m \u001b[0;31m# create an array of integers: 1-10\u001b[0m\u001b[0;34m\u001b[0m\u001b[0;34m\u001b[0m\u001b[0;34m\u001b[0m\u001b[0m\n\u001b[0;32m----> 2\u001b[0;31m \u001b[0mlist2\u001b[0m\u001b[0;34m=\u001b[0m\u001b[0mint\u001b[0m\u001b[0;34m(\u001b[0m\u001b[0mrange\u001b[0m\u001b[0;34m(\u001b[0m\u001b[0;36m1\u001b[0m\u001b[0;34m,\u001b[0m\u001b[0;36m10\u001b[0m\u001b[0;34m)\u001b[0m\u001b[0;34m)\u001b[0m\u001b[0;34m\u001b[0m\u001b[0;34m\u001b[0m\u001b[0m\n\u001b[0m",
      "\u001b[0;31mTypeError\u001b[0m: int() argument must be a string, a bytes-like object or a number, not 'range'"
     ]
    }
   ],
   "source": [
    "# create an array of integers: 1-10\n",
    "list2=range(1,10)"
   ]
  },
  {
   "cell_type": "code",
   "execution_count": 30,
   "metadata": {},
   "outputs": [
    {
     "ename": "TypeError",
     "evalue": "unsupported operand type(s) for ** or pow(): 'str' and 'int'",
     "output_type": "error",
     "traceback": [
      "\u001b[0;31m---------------------------------------------------------------------------\u001b[0m",
      "\u001b[0;31mTypeError\u001b[0m                                 Traceback (most recent call last)",
      "\u001b[0;32m<ipython-input-30-d5e00d36b24c>\u001b[0m in \u001b[0;36m<module>\u001b[0;34m\u001b[0m\n\u001b[1;32m      1\u001b[0m \u001b[0;31m# map through the array, squaring each number in the original array. Output should look like below.\u001b[0m\u001b[0;34m\u001b[0m\u001b[0;34m\u001b[0m\u001b[0;34m\u001b[0m\u001b[0m\n\u001b[0;32m----> 2\u001b[0;31m \u001b[0;32mfor\u001b[0m \u001b[0mx\u001b[0m \u001b[0;32min\u001b[0m \u001b[0mmap\u001b[0m\u001b[0;34m(\u001b[0m\u001b[0mx\u001b[0m\u001b[0;34m**\u001b[0m\u001b[0;36m2\u001b[0m\u001b[0;34m,\u001b[0m\u001b[0mrange\u001b[0m\u001b[0;34m(\u001b[0m\u001b[0;36m1\u001b[0m\u001b[0;34m,\u001b[0m\u001b[0;36m10\u001b[0m\u001b[0;34m)\u001b[0m\u001b[0;34m)\u001b[0m\u001b[0;34m:\u001b[0m\u001b[0;34m\u001b[0m\u001b[0;34m\u001b[0m\u001b[0m\n\u001b[0m\u001b[1;32m      3\u001b[0m     \u001b[0mprint\u001b[0m\u001b[0;34m(\u001b[0m\u001b[0mx\u001b[0m\u001b[0;34m)\u001b[0m\u001b[0;34m\u001b[0m\u001b[0;34m\u001b[0m\u001b[0m\n",
      "\u001b[0;31mTypeError\u001b[0m: unsupported operand type(s) for ** or pow(): 'str' and 'int'"
     ]
    }
   ],
   "source": [
    "# map through the array, squaring each number in the original array. Output should look like below.\n",
    "for x in map(x**2,range(1,10)):\n",
    "    print(x)\n"
   ]
  },
  {
   "cell_type": "markdown",
   "metadata": {},
   "source": [
    "## Mapping practice: lowercase names\n",
    "---\n",
    "\n",
    "Given the following list:\n",
    "```python\n",
    "names = ['Xlegic', 'John', 'Jasmine', 'Eva']\n",
    "```\n",
    "\n",
    "Use list comprehension to lowercase each name."
   ]
  },
  {
   "cell_type": "code",
   "execution_count": 18,
   "metadata": {},
   "outputs": [
    {
     "ename": "AttributeError",
     "evalue": "'list' object has no attribute 'replace'",
     "output_type": "error",
     "traceback": [
      "\u001b[0;31m---------------------------------------------------------------------------\u001b[0m",
      "\u001b[0;31mAttributeError\u001b[0m                            Traceback (most recent call last)",
      "\u001b[0;32m<ipython-input-18-1ecbdd8ae4bc>\u001b[0m in \u001b[0;36m<module>\u001b[0;34m\u001b[0m\n\u001b[1;32m      1\u001b[0m \u001b[0mnames\u001b[0m \u001b[0;34m=\u001b[0m \u001b[0;34m[\u001b[0m\u001b[0;34m'Xlegic'\u001b[0m\u001b[0;34m,\u001b[0m \u001b[0;34m'John'\u001b[0m\u001b[0;34m,\u001b[0m \u001b[0;34m'Jasmine'\u001b[0m\u001b[0;34m,\u001b[0m \u001b[0;34m'Eva'\u001b[0m\u001b[0;34m]\u001b[0m\u001b[0;34m\u001b[0m\u001b[0;34m\u001b[0m\u001b[0m\n\u001b[1;32m      2\u001b[0m \u001b[0;32mfor\u001b[0m \u001b[0mname\u001b[0m \u001b[0;32min\u001b[0m \u001b[0mnames\u001b[0m\u001b[0;34m:\u001b[0m\u001b[0;34m\u001b[0m\u001b[0;34m\u001b[0m\u001b[0m\n\u001b[0;32m----> 3\u001b[0;31m     \u001b[0mnames\u001b[0m\u001b[0;34m.\u001b[0m\u001b[0mreplace\u001b[0m\u001b[0;34m(\u001b[0m\u001b[0mname\u001b[0m\u001b[0;34m.\u001b[0m\u001b[0mlower\u001b[0m\u001b[0;34m(\u001b[0m\u001b[0;34m)\u001b[0m\u001b[0;34m,\u001b[0m\u001b[0mname\u001b[0m\u001b[0;34m)\u001b[0m\u001b[0;34m\u001b[0m\u001b[0;34m\u001b[0m\u001b[0m\n\u001b[0m\u001b[1;32m      4\u001b[0m \u001b[0mprint\u001b[0m\u001b[0;34m(\u001b[0m\u001b[0mnames\u001b[0m\u001b[0;34m)\u001b[0m\u001b[0;34m\u001b[0m\u001b[0;34m\u001b[0m\u001b[0m\n",
      "\u001b[0;31mAttributeError\u001b[0m: 'list' object has no attribute 'replace'"
     ]
    }
   ],
   "source": [
    "names = ['Xlegic', 'John', 'Jasmine', 'Eva']\n",
    "for name in names:\n",
    "    names.replace(name.lower(),name)\n",
    "print(names)"
   ]
  },
  {
   "cell_type": "markdown",
   "metadata": {},
   "source": [
    "## Filtering\n",
    "---\n",
    "\n",
    "Filtering is when you return a subset of a given list that meets a certain condition. Like mapping, we can use list comprehension to filter. \n",
    "\n",
    "Given the following list of people:\n",
    "\n",
    "```python\n",
    "classroom = [\n",
    "    {'name': 'Teacher McTeacherson', 'role': 'teacher'},\n",
    "    {'name': 'Teacher McTeacherson', 'role': 'teacher'},\n",
    "    {'name': 'Teacher McTeacherson', 'role': 'teacher'},\n",
    "    {'name': 'Student McStudentson', 'role': 'student'},\n",
    "    {'name': 'Student McStudentson', 'role': 'student'},\n",
    "    {'name': 'Student McStudentson', 'role': 'student'},\n",
    "    {'name': 'Student McStudentson', 'role': 'student'},\n",
    "    {'name': 'Student McStudentson', 'role': 'student'},\n",
    "    {'name': 'Student McStudentson', 'role': 'student'},\n",
    "    {'name': 'Student McStudentson', 'role': 'student'}\n",
    "]\n",
    "```\n",
    "\n",
    "Use list comprehension to return only those individuals whose role is `'student'`."
   ]
  },
  {
   "cell_type": "code",
   "execution_count": 37,
   "metadata": {},
   "outputs": [],
   "source": [
    "classroom = [\n",
    "    {'name': 'Teacher McTeacherson', 'role': 'teacher'},\n",
    "    {'name': 'Teacher McTeacherson', 'role': 'teacher'},\n",
    "    {'name': 'Teacher McTeacherson', 'role': 'teacher'},\n",
    "    {'name': 'Student McStudentson', 'role': 'student'},\n",
    "    {'name': 'Student McStudentson', 'role': 'student'},\n",
    "    {'name': 'Student McStudentson', 'role': 'student'},\n",
    "    {'name': 'Student McStudentson', 'role': 'student'},\n",
    "    {'name': 'Student McStudentson', 'role': 'student'},\n",
    "    {'name': 'Student McStudentson', 'role': 'student'},\n",
    "    {'name': 'Student McStudentson', 'role': 'student'}\n",
    "]\n",
    "classroom_student=[]\n",
    "for x in classroom:\n",
    "    if x['role']=='student':\n",
    "        classroom_student.append(x)"
   ]
  },
  {
   "cell_type": "markdown",
   "metadata": {},
   "source": [
    "Now let's use list comprehension to filter our list to be teachers."
   ]
  },
  {
   "cell_type": "code",
   "execution_count": 38,
   "metadata": {},
   "outputs": [
    {
     "data": {
      "text/plain": [
       "[{'name': 'Student McStudentson', 'role': 'student'},\n",
       " {'name': 'Student McStudentson', 'role': 'student'},\n",
       " {'name': 'Student McStudentson', 'role': 'student'},\n",
       " {'name': 'Student McStudentson', 'role': 'student'},\n",
       " {'name': 'Student McStudentson', 'role': 'student'},\n",
       " {'name': 'Student McStudentson', 'role': 'student'},\n",
       " {'name': 'Student McStudentson', 'role': 'student'}]"
      ]
     },
     "execution_count": 38,
     "metadata": {},
     "output_type": "execute_result"
    }
   ],
   "source": [
    "[x for x in classroom if x['role']=='student']"
   ]
  },
  {
   "cell_type": "code",
   "execution_count": 55,
   "metadata": {},
   "outputs": [
    {
     "data": {
      "text/plain": [
       "[{'name': 'Student McStudentson', 'role': 'student'},\n",
       " {'name': 'Student McStudentson', 'role': 'student'},\n",
       " {'name': 'Student McStudentson', 'role': 'student'},\n",
       " {'name': 'Student McStudentson', 'role': 'student'},\n",
       " {'name': 'Student McStudentson', 'role': 'student'},\n",
       " {'name': 'Student McStudentson', 'role': 'student'},\n",
       " {'name': 'Student McStudentson', 'role': 'student'}]"
      ]
     },
     "execution_count": 55,
     "metadata": {},
     "output_type": "execute_result"
    }
   ],
   "source": [
    "def is_student(x):\n",
    "    return x['role']=='student'\n",
    "new_list = list(filter(is_student,classroom))\n",
    "new_list"
   ]
  },
  {
   "cell_type": "code",
   "execution_count": 58,
   "metadata": {},
   "outputs": [
    {
     "data": {
      "text/plain": [
       "[{'name': 'Student McStudentson', 'role': 'student'},\n",
       " {'name': 'Student McStudentson', 'role': 'student'},\n",
       " {'name': 'Student McStudentson', 'role': 'student'},\n",
       " {'name': 'Student McStudentson', 'role': 'student'},\n",
       " {'name': 'Student McStudentson', 'role': 'student'},\n",
       " {'name': 'Student McStudentson', 'role': 'student'},\n",
       " {'name': 'Student McStudentson', 'role': 'student'}]"
      ]
     },
     "execution_count": 58,
     "metadata": {},
     "output_type": "execute_result"
    }
   ],
   "source": [
    "[x for x in filter(lambda x:x['role']=='student',classroom)]"
   ]
  },
  {
   "cell_type": "markdown",
   "metadata": {},
   "source": [
    "## List Comprehension: Dictionaries\n",
    "---\n",
    "\n",
    "Despite the name, list comprehension is not exclusive to lists. We can also map over dictionaries, but with a subtle difference: we'll wrap our list comprehension in `{}` instead of `[]` to retain the dictionary type.\n",
    "\n",
    "Let's say we have a dictionary of users with their corresponding emails:\n",
    "\n",
    "```python\n",
    "users = {\n",
    "    'user1': 'FOO@BAR.COM',\n",
    "    'user2': 'JOHN@DOE.COM',\n",
    "    'user3': '90SRULE@AOL.COM'\n",
    "}\n",
    "```\n",
    "\n",
    "We might want to lowercase all the email addresses before saving them to a database. In the block below, map through `users` and return the same dictionary, but with all the emails lowercased."
   ]
  },
  {
   "cell_type": "code",
<<<<<<< Updated upstream
   "execution_count": 24,
=======
   "execution_count": 48,
>>>>>>> Stashed changes
   "metadata": {},
   "outputs": [],
   "source": [
    "users = {\n",
    "    'user1': 'FOO@BAR.COM',\n",
    "    'user2': 'JOHN@DOE.COM',\n",
    "    'user3': '90SRULE@AOL.COM'\n",
    "}\n",
<<<<<<< Updated upstream
    "for user_index, email in users.items():\n",
    "        users[user_index] = email.lower()"
=======
    "for x,y in users.items():\n",
    "    users[x] = y.lower()"
>>>>>>> Stashed changes
   ]
  },
  {
   "cell_type": "code",
<<<<<<< Updated upstream
   "execution_count": 25,
=======
   "execution_count": 50,
>>>>>>> Stashed changes
   "metadata": {},
   "outputs": [
    {
     "data": {
      "text/plain": [
       "{'user1': 'foo@bar.com', 'user2': 'john@doe.com', 'user3': '90srule@aol.com'}"
      ]
     },
<<<<<<< Updated upstream
     "execution_count": 25,
=======
     "execution_count": 50,
>>>>>>> Stashed changes
     "metadata": {},
     "output_type": "execute_result"
    }
   ],
   "source": [
    "users"
   ]
  },
  {
   "cell_type": "markdown",
   "metadata": {},
   "source": [
    "# Filtering Dictionaries\n",
    "---\n",
    "\n",
    "If we can map dictionaries, we can also filter them. Using our `users` dictionary from above, let's filter only users who have an AOL account."
   ]
  },
  {
   "cell_type": "code",
   "execution_count": null,
   "metadata": {},
   "outputs": [],
   "source": []
  }
 ],
 "metadata": {
  "anaconda-cloud": {},
  "kernelspec": {
   "display_name": "Python 3",
   "language": "python",
   "name": "python3"
  },
  "language_info": {
   "codemirror_mode": {
    "name": "ipython",
    "version": 3
   },
   "file_extension": ".py",
   "mimetype": "text/x-python",
   "name": "python",
   "nbconvert_exporter": "python",
   "pygments_lexer": "ipython3",
<<<<<<< Updated upstream
   "version": "3.6.5"
=======
   "version": "3.7.4"
>>>>>>> Stashed changes
  }
 },
 "nbformat": 4,
 "nbformat_minor": 1
}
